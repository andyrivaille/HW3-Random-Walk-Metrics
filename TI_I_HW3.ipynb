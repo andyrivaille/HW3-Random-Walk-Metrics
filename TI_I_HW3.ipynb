{
 "cells": [
  {
   "cell_type": "markdown",
   "id": "afde5985-0f40-41b5-ae93-e86602efb1bb",
   "metadata": {},
   "source": [
    "# Homework 3 #\n",
    "**Name:** Andrea Gonzalez Cruz\n",
    "\n",
    "**e-mail:** andrea.gcruz@alumnos.udg.mx"
   ]
  },
  {
   "cell_type": "markdown",
   "id": "3b4a7c13-e072-4169-bdf3-2cdf16a0064b",
   "metadata": {},
   "source": [
    "## Modules ##\n",
    "Import/add the modules for the next sections"
   ]
  },
  {
   "cell_type": "code",
   "execution_count": null,
   "id": "fb4c99a0-c357-4cde-912b-a787f36cd6ce",
   "metadata": {},
   "outputs": [],
   "source": [
    "#Load modules \n",
    "import matplotlib.pyplot as plt\n",
    "import numpy as np \n",
    "import pandas as pd\n",
    "import math\n",
    "import plotly.graph_objects as go\n",
    "\n",
    "from scipy.stats import cauchy\n",
    "from scipy.spatial import distance"
   ]
  },
  {
   "cell_type": "markdown",
   "id": "8f155be3-de6d-4866-bb5e-910393241be5",
   "metadata": {},
   "source": [
    "## Activity 1: Path lenght (BM1 vs BM2 vs CRW) ##\n",
    "*Instructions*\n",
    "1. Write a function that returns a **Brownian Motion (BM)** trajectory in **Pandas** df.\n",
    "2. Write a function that returns a **Correlated Random Walk (CRW)** trajectory in **Pandas** df.\n",
    "3. Write a function that returns the **path length** for a given trajectory.\n",
    "4. Compare at least the path length of **three** trajectories as shown in the figure below.\n",
    "5. Display the results using **Plotly**"
   ]
  },
  {
   "cell_type": "markdown",
   "id": "ed0bc45b-1982-446d-bc10-393a04e54548",
   "metadata": {},
   "source": [
    "#### Brownian Motion ####\n",
    "The Brownian Motion is definied as the random motion of particles suspenden in a medium, typically consist of random fluctuations in a particle's position inside a fluid sub-domain."
   ]
  },
  {
   "cell_type": "code",
   "execution_count": null,
   "id": "d5523458-b556-4513-acf8-8106470dc4f0",
   "metadata": {},
   "outputs": [],
   "source": [
    "#Define the Brownian Motion (BM), Correlated Random Walk (CRW) and Path length for the trajectory\n",
    "\n",
    "#Generate the BM trajectory taking 100 steps and using delta equal to 1 to define the step size\n",
    "def brownian_m(n_steps=100, delta=1):\n",
    "    #Generate the random values and create the trajectory in a pandas data frame\n",
    "    x = np.cumsum(np.random.normal(0, delta, n_steps))\n",
    "    y = np.cumsum(np.random.normal(0, delta, n_steps))\n",
    "    return pd.DataFrame({'x': x, 'y':y})\n",
    "\n",
    "#Define the CRW trajectory using a correlation value of 0.9 (for a random trajectory = correlation value is closer to 0)\n",
    "def crw(n_steps=100, step_size=1, correlation=0.9):\n",
    "    angles = np.cumsum(np.random.normal(0, (1 - correlation)*np.pi, n_steps)) #For variations in the steps\n",
    "    x = np.cumsum(step_size * np.cos(angles)) #Angle direction for x\n",
    "    y = np.cumsum(step_size * np.sin(angles)) #Angle direction for y (the steps)\n",
    "    return pd.DataFrame({'x': x, 'y': y})\n",
    "\n",
    "#Generate the path length of a trajectory\n",
    "def path_l(traj):\n",
    "    #diff helps us to compute differences between consecutive elements\n",
    "    #To get positive values, the differences are squaring\n",
    "    return np.sum(np.sqrt(np.diff(traj['x'])**2 + np.diff(traj['y'])**2))"
   ]
  },
  {
   "cell_type": "markdown",
   "id": "16bd14e1-c586-4974-a09b-70d5ec5fee94",
   "metadata": {},
   "source": [
    "## Activity 2: Mean Squared Displacement (BM vs CRW) ##\n",
    "*Instructions*\n",
    "1. Write a function that returns the **mean squared displacement** for a given trajectory.\n",
    "2. Compare the **mean squared displacement** curves of at least two trajectories of different kinds, as shown in the figure below.\n",
    "3. Display the results using **Plotly**."
   ]
  },
  {
   "cell_type": "code",
   "execution_count": null,
   "id": "581f1c23-a67b-4e89-99d6-85b11b40c4cd",
   "metadata": {},
   "outputs": [],
   "source": []
  }
 ],
 "metadata": {
  "kernelspec": {
   "display_name": "leftenv",
   "language": "python",
   "name": "leftenv"
  },
  "language_info": {
   "codemirror_mode": {
    "name": "ipython",
    "version": 3
   },
   "file_extension": ".py",
   "mimetype": "text/x-python",
   "name": "python",
   "nbconvert_exporter": "python",
   "pygments_lexer": "ipython3",
   "version": "3.10.0"
  }
 },
 "nbformat": 4,
 "nbformat_minor": 5
}
