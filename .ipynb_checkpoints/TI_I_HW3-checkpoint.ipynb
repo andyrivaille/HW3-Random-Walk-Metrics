{
 "cells": [
  {
   "cell_type": "markdown",
   "id": "afde5985-0f40-41b5-ae93-e86602efb1bb",
   "metadata": {},
   "source": [
    "# Homework 3 #\n",
    "**Name:** Andrea Gonzalez Cruz\n",
    "\n",
    "**e-mail:** andrea.gcruz@alumnos.udg.mx"
   ]
  },
  {
   "cell_type": "markdown",
   "id": "3b4a7c13-e072-4169-bdf3-2cdf16a0064b",
   "metadata": {},
   "source": [
    "## Modules ##\n",
    "Import/add the modules for the next sections"
   ]
  },
  {
   "cell_type": "code",
   "execution_count": null,
   "id": "fb4c99a0-c357-4cde-912b-a787f36cd6ce",
   "metadata": {},
   "outputs": [],
   "source": [
    "# Load modules \n",
    "import matplotlib.pyplot as plt\n",
    "import numpy as np \n",
    "import pandas as pd\n",
    "import math"
   ]
  },
  {
   "cell_type": "code",
   "execution_count": null,
   "id": "e5f6d049-7100-4a27-91ee-4b8fcc856794",
   "metadata": {},
   "outputs": [],
   "source": []
  }
 ],
 "metadata": {
  "kernelspec": {
   "display_name": "leftenv",
   "language": "python",
   "name": "leftenv"
  },
  "language_info": {
   "codemirror_mode": {
    "name": "ipython",
    "version": 3
   },
   "file_extension": ".py",
   "mimetype": "text/x-python",
   "name": "python",
   "nbconvert_exporter": "python",
   "pygments_lexer": "ipython3",
   "version": "3.10.0"
  }
 },
 "nbformat": 4,
 "nbformat_minor": 5
}
